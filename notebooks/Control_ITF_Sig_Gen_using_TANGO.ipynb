{
 "cells": [
  {
   "cell_type": "markdown",
   "id": "58534a83-dc18-48c9-888a-8ed2f73eba03",
   "metadata": {},
   "source": [
    "## Connect and Setup Tango"
   ]
  },
  {
   "cell_type": "code",
   "execution_count": null,
   "id": "0532c2c9-f91a-4a7f-81f2-d0f36e1a3dc2",
   "metadata": {},
   "outputs": [],
   "source": [
    "import os\n",
    "from tango import DeviceProxy, EventType\n",
    "\n",
    "# specify here the namespace to connect in this cluster\n",
    "KUBE_NAMESPACE = \"integration-itf\"\n",
    "\n",
    "# set the name of the databaseds service\n",
    "DATABASEDS_NAME = \"tango-databaseds\"\n",
    "\n",
    "# finally set the TANGO_HOST\n",
    "os.environ[\"TANGO_HOST\"] = f\"{DATABASEDS_NAME}.{KUBE_NAMESPACE}.svc.cluster.local:10000\"\n"
   ]
  },
  {
   "cell_type": "markdown",
   "id": "df0bd733-186a-405b-abc1-37b28885317d",
   "metadata": {},
   "source": [
    "## Connect to Signal Generator"
   ]
  },
  {
   "cell_type": "code",
   "execution_count": null,
   "id": "91ba7add-c239-40d1-907a-6aee6cc38810",
   "metadata": {},
   "outputs": [],
   "source": [
    "mydevice = DeviceProxy(\"test-itf/siggen/1\")"
   ]
  },
  {
   "cell_type": "code",
   "execution_count": null,
   "id": "132dff53-d32c-4350-8c7c-9bfefa39b5bc",
   "metadata": {},
   "outputs": [],
   "source": [
    "## Query admin mode\n",
    "mydevice.adminmode"
   ]
  },
  {
   "cell_type": "code",
   "execution_count": null,
   "id": "ed529b5e-3e03-4c05-92e7-1c7ed98eb9d4",
   "metadata": {},
   "outputs": [],
   "source": [
    "## Set admin mode 0 = ON, 1 = OFF\n",
    "mydevice.adminmode = 0"
   ]
  },
  {
   "cell_type": "markdown",
   "id": "d1a529d6-8ccc-4e31-90c9-8c0a55e80a3e",
   "metadata": {},
   "source": [
    "## Configure Sig Gen"
   ]
  },
  {
   "cell_type": "code",
   "execution_count": null,
   "id": "3974129c-c18f-4a5a-aad2-044d13a52181",
   "metadata": {},
   "outputs": [],
   "source": [
    "mydevice.frequency = 2000000000 # Hz"
   ]
  },
  {
   "cell_type": "code",
   "execution_count": null,
   "id": "5177ce02-4de5-48e3-a54b-3517385ccf8a",
   "metadata": {},
   "outputs": [],
   "source": [
    "mydevice.power_dbm = -30"
   ]
  },
  {
   "cell_type": "code",
   "execution_count": null,
   "id": "da8c182b-5921-4596-999f-65dd91e3d1c9",
   "metadata": {},
   "outputs": [],
   "source": [
    "mydevice.rf_output_on = 1 # on"
   ]
  },
  {
   "cell_type": "code",
   "execution_count": null,
   "id": "0c75433e-2e5b-401d-bdcc-8bf876cfbc51",
   "metadata": {},
   "outputs": [],
   "source": [
    "mydevice.rf_output_on = 0 # off"
   ]
  }
 ],
 "metadata": {
  "kernelspec": {
   "display_name": "Python 3.9.12 64-bit ('3.9.12')",
   "language": "python",
   "name": "python3"
  },
  "language_info": {
   "codemirror_mode": {
    "name": "ipython",
    "version": 3
   },
   "file_extension": ".py",
   "mimetype": "text/x-python",
   "name": "python",
   "nbconvert_exporter": "python",
   "pygments_lexer": "ipython3",
   "version": "3.9.12"
  },
  "vscode": {
   "interpreter": {
    "hash": "c8097d256ddd6c4d4e66d8523d66f6369dc95922422bd8c3a58d7b7768353666"
   }
  }
 },
 "nbformat": 4,
 "nbformat_minor": 5
}
