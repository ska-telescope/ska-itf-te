{
 "cells": [
  {
   "cell_type": "markdown",
   "id": "bfe7397b",
   "metadata": {},
   "source": [
    "# Basic CSP Startup Script\n",
    "\n",
    "Before starting the notebook, please run the job `deploy-sut-integration` of the `integration` stage in the latest gitlab pipeline: https://gitlab.com/ska-telescope/ska-mid-itf/-/pipelines?page=1&scope=all&ref=main. \n",
    "\n",
    "<div class=\"alert alert-block alert-danger\">\n",
    "<b>WARNING</b>The CBF configuration scripts' output is extremely verbose and will cause the CI job outputs to be too large to download in a single CI job. In future this might be improved.</div>"
   ]
  },
  {
   "cell_type": "code",
   "execution_count": 1,
   "id": "8b17ab52",
   "metadata": {
    "tags": []
   },
   "outputs": [
    {
     "name": "stdout",
     "output_type": "stream",
     "text": [
      "Tango host tango-databaseds.integration.svc.miditf.internal.skao.int:10000\n"
     ]
    }
   ],
   "source": [
    "import os\n",
    "import datetime, json\n",
    "from tango import DeviceProxy, Database\n",
    "\n",
    "# Take the namespace name from the deployment job\n",
    "# KUBE_NAMESPACE = \"ci-ska-mid-itf-at-1702-add-csplmc-tests\"\n",
    "KUBE_NAMESPACE = \"integration\"\n",
    "KUBE_NAMESPACE_SDP = \"integration-sdp\"\n",
    "CLUSTER_DOMAIN = \"miditf.internal.skao.int\"\n",
    "# set the name of the databaseds service\n",
    "DATABASEDS_NAME = \"tango-databaseds\"\n",
    "\n",
    "tango_host = f\"{DATABASEDS_NAME}.{KUBE_NAMESPACE}.svc.{CLUSTER_DOMAIN}:10000\"\n",
    "print(\"Tango host %s\" % tango_host)\n",
    "\n",
    "# finally set the TANGO_HOST\n",
    "os.environ[\"TANGO_HOST\"] = tango_host\n",
    "\n",
    "TIMEOUT=60"
   ]
  },
  {
   "cell_type": "markdown",
   "id": "3ac7e3e9",
   "metadata": {},
   "source": [
    "List all devices available:"
   ]
  },
  {
   "cell_type": "code",
   "execution_count": 11,
   "id": "fe55883a-6887-43dd-9498-5333a51799e2",
   "metadata": {
    "tags": []
   },
   "outputs": [
    {
     "name": "stdout",
     "output_type": "stream",
     "text": [
      "245 devices avalable\n",
      "dserver/CbfController/controller\n",
      "dserver/CbfSubarray/cbfsubarray-01\n",
      "dserver/CbfSubarray/cbfsubarray-02\n",
      "dserver/CbfSubarray/cbfsubarray-03\n",
      "dserver/central_node_mid/01\n",
      "dserver/csp_master_leaf_node/01\n",
      "dserver/csp_subarray_leaf_node_mid/01\n",
      "dserver/DataBaseds/2\n",
      "dserver/dish_leaf_node/01\n",
      "dserver/dish_leaf_node/100\n",
      "dserver/dish_leaf_node/36\n",
      "dserver/dish_leaf_node/63\n",
      "dserver/ds-histogram/talon1_test\n",
      "dserver/ds-resampler-delay-tracker/talon1_test\n",
      "dserver/dscircuitswitch/talon1_test\n",
      "dserver/dscorrelator/talon1_test\n",
      "dserver/dsdct/talon1_test\n",
      "dserver/dsfinechannelizer/talon1_test\n",
      "dserver/dsgaussiannoisegen/talon1_test\n",
      "dserver/dshostlutstage1/talon1_test\n",
      "dserver/dshostlutstage2/talon1_test\n",
      "dserver/dshpsmaster/talon1_test\n",
      "dserver/dslstvbandpassfilter/talon1_test\n",
      "dserver/dslstvgen/talon1_test\n",
      "dserver/dslstvplayback/talon1_test\n",
      "dserver/dslstvtonegenerator/talon1_test\n",
      "dserver/dspacketstreamrepair/talon1_test\n",
      "dserver/dspolarizationcoupler/talon1_test\n",
      "dserver/dsslimtxrx/talon1_test\n",
      "dserver/dsspeaddescriptor/talon1_test\n",
      "dserver/dsvcc/talon1_test\n",
      "dserver/dswbinputbuffer/talon1_test\n",
      "dserver/dswbstatecount/talon1_test\n",
      "dserver/FspMulti/fsp-01\n",
      "dserver/FspMulti/fsp-02\n",
      "dserver/FspMulti/fsp-03\n",
      "dserver/FspMulti/fsp-04\n",
      "dserver/MidCspCapabilityFsp/capabilityfsp\n",
      "dserver/MidCspCapabilityVcc/capabilityvcc\n",
      "dserver/MidCspController/controller\n",
      "dserver/MidCspSubarray/subarray1\n",
      "dserver/MidCspSubarray/subarray2\n",
      "dserver/MidCspSubarray/subarray3\n",
      "dserver/PowerSwitch/powerswitch-001\n",
      "dserver/PowerSwitch/powerswitch-002\n",
      "dserver/PowerSwitch/powerswitch-003\n",
      "dserver/sdp_master_leaf_node/01\n",
      "dserver/sdp_subarray_leaf_node/01\n",
      "dserver/ska-mid-cbf-fsp-app/talon1_test\n",
      "dserver/ska-mid-cbf-vcc-app/talon1_test\n",
      "dserver/ska-mid-spfrx-packetizer-ds/talon1_test\n",
      "dserver/ska-talondx-100-gigabit-ethernet-ds/talon1_test\n",
      "dserver/ska-talondx-status-ds/talon1_test\n",
      "dserver/ska-talondx-sysid-ds/talon1_test\n",
      "dserver/subarray_node_mid/01\n",
      "dserver/TalonBoard/talon-001\n",
      "dserver/TalonBoard/talon-002\n",
      "dserver/TalonBoard/talon-003\n",
      "dserver/TalonBoard/talon-004\n",
      "dserver/TalonBoard/talon-005\n",
      "dserver/TalonBoard/talon-006\n",
      "dserver/TalonBoard/talon-007\n",
      "dserver/TalonBoard/talon-008\n",
      "dserver/TalonDxLogConsumer/001\n",
      "dserver/TalonLRU/talonlru-001\n",
      "dserver/TalonLRU/talonlru-002\n",
      "dserver/TalonLRU/talonlru-003\n",
      "dserver/TalonLRU/talonlru-004\n",
      "dserver/TangoTest/test\n",
      "dserver/TmCspSubarrayLeafNodeTest/tm\n",
      "dserver/TmCspSubarrayLeafNodeTest/tm2\n",
      "dserver/VccMulti/vcc-001\n",
      "dserver/VccMulti/vcc-002\n",
      "dserver/VccMulti/vcc-003\n",
      "dserver/VccMulti/vcc-004\n",
      "dserver/VccMulti/vcc-005\n",
      "dserver/VccMulti/vcc-006\n",
      "dserver/VccMulti/vcc-007\n",
      "dserver/VccMulti/vcc-008\n",
      "mid-csp/capability-fsp/0\n",
      "mid-csp/capability-vcc/0\n",
      "mid-csp/control/0\n",
      "mid-csp/subarray/01\n",
      "mid-csp/subarray/02\n",
      "mid-csp/subarray/03\n",
      "mid_csp_cbf/fsp/01\n",
      "mid_csp_cbf/fsp/02\n",
      "mid_csp_cbf/fsp/03\n",
      "mid_csp_cbf/fsp/04\n",
      "mid_csp_cbf/fspCorrSubarray/01_01\n",
      "mid_csp_cbf/fspCorrSubarray/01_02\n",
      "mid_csp_cbf/fspCorrSubarray/01_03\n",
      "mid_csp_cbf/fspCorrSubarray/02_01\n",
      "mid_csp_cbf/fspCorrSubarray/02_02\n",
      "mid_csp_cbf/fspCorrSubarray/02_03\n",
      "mid_csp_cbf/fspCorrSubarray/03_01\n",
      "mid_csp_cbf/fspCorrSubarray/03_02\n",
      "mid_csp_cbf/fspCorrSubarray/03_03\n",
      "mid_csp_cbf/fspCorrSubarray/04_01\n",
      "mid_csp_cbf/fspCorrSubarray/04_02\n",
      "mid_csp_cbf/fspCorrSubarray/04_03\n",
      "mid_csp_cbf/fspPssSubarray/01_01\n",
      "mid_csp_cbf/fspPssSubarray/01_02\n",
      "mid_csp_cbf/fspPssSubarray/01_03\n",
      "mid_csp_cbf/fspPssSubarray/02_01\n",
      "mid_csp_cbf/fspPssSubarray/02_02\n",
      "mid_csp_cbf/fspPssSubarray/02_03\n",
      "mid_csp_cbf/fspPssSubarray/03_01\n",
      "mid_csp_cbf/fspPssSubarray/03_02\n",
      "mid_csp_cbf/fspPssSubarray/03_03\n",
      "mid_csp_cbf/fspPssSubarray/04_01\n",
      "mid_csp_cbf/fspPssSubarray/04_02\n",
      "mid_csp_cbf/fspPssSubarray/04_03\n",
      "mid_csp_cbf/fspPstSubarray/01_01\n",
      "mid_csp_cbf/fspPstSubarray/01_02\n",
      "mid_csp_cbf/fspPstSubarray/01_03\n",
      "mid_csp_cbf/fspPstSubarray/02_01\n",
      "mid_csp_cbf/fspPstSubarray/02_02\n",
      "mid_csp_cbf/fspPstSubarray/02_03\n",
      "mid_csp_cbf/fspPstSubarray/03_01\n",
      "mid_csp_cbf/fspPstSubarray/03_02\n",
      "mid_csp_cbf/fspPstSubarray/03_03\n",
      "mid_csp_cbf/fspPstSubarray/04_01\n",
      "mid_csp_cbf/fspPstSubarray/04_02\n",
      "mid_csp_cbf/fspPstSubarray/04_03\n",
      "mid_csp_cbf/power_switch/001\n",
      "mid_csp_cbf/power_switch/002\n",
      "mid_csp_cbf/power_switch/003\n",
      "mid_csp_cbf/sub_elt/controller\n",
      "mid_csp_cbf/sub_elt/subarray_01\n",
      "mid_csp_cbf/sub_elt/subarray_02\n",
      "mid_csp_cbf/sub_elt/subarray_03\n",
      "mid_csp_cbf/talondx_log_consumer/001\n",
      "mid_csp_cbf/talon_board/001\n",
      "mid_csp_cbf/talon_board/002\n",
      "mid_csp_cbf/talon_board/003\n",
      "mid_csp_cbf/talon_board/004\n",
      "mid_csp_cbf/talon_board/005\n",
      "mid_csp_cbf/talon_board/006\n",
      "mid_csp_cbf/talon_board/007\n",
      "mid_csp_cbf/talon_board/008\n",
      "mid_csp_cbf/talon_lru/001\n",
      "mid_csp_cbf/talon_lru/002\n",
      "mid_csp_cbf/talon_lru/003\n",
      "mid_csp_cbf/talon_lru/004\n",
      "mid_csp_cbf/vcc/001\n",
      "mid_csp_cbf/vcc/002\n",
      "mid_csp_cbf/vcc/003\n",
      "mid_csp_cbf/vcc/004\n",
      "mid_csp_cbf/vcc/005\n",
      "mid_csp_cbf/vcc/006\n",
      "mid_csp_cbf/vcc/007\n",
      "mid_csp_cbf/vcc/008\n",
      "mid_csp_cbf/vcc_sw1/001\n",
      "mid_csp_cbf/vcc_sw1/002\n",
      "mid_csp_cbf/vcc_sw1/003\n",
      "mid_csp_cbf/vcc_sw1/004\n",
      "mid_csp_cbf/vcc_sw1/005\n",
      "mid_csp_cbf/vcc_sw1/006\n",
      "mid_csp_cbf/vcc_sw1/007\n",
      "mid_csp_cbf/vcc_sw1/008\n",
      "mid_csp_cbf/vcc_sw2/001\n",
      "mid_csp_cbf/vcc_sw2/002\n",
      "mid_csp_cbf/vcc_sw2/003\n",
      "mid_csp_cbf/vcc_sw2/004\n",
      "mid_csp_cbf/vcc_sw2/005\n",
      "mid_csp_cbf/vcc_sw2/006\n",
      "mid_csp_cbf/vcc_sw2/007\n",
      "mid_csp_cbf/vcc_sw2/008\n",
      "ska_mid/tm_central/central_node\n",
      "ska_mid/tm_leaf_node/csp_master\n",
      "ska_mid/tm_leaf_node/csp_subarray01\n",
      "ska_mid/tm_leaf_node/csp_subarray_01\n",
      "ska_mid/tm_leaf_node/csp_subarray_02\n",
      "ska_mid/tm_leaf_node/d0001\n",
      "ska_mid/tm_leaf_node/d0036\n",
      "ska_mid/tm_leaf_node/d0063\n",
      "ska_mid/tm_leaf_node/d0100\n",
      "ska_mid/tm_leaf_node/sdp_master\n",
      "ska_mid/tm_leaf_node/sdp_subarray01\n",
      "ska_mid/tm_subarray_node/1\n",
      "sys/database/2\n",
      "sys/tg_test/1\n",
      "talondx-001/circuitswitch/circuit_switch\n",
      "talondx-001/correlator/correlator\n",
      "talondx-001/dct/dct\n",
      "talondx-001/dshostlutstage1/host_lut_s1\n",
      "talondx-001/dshostlutstage2/host_lut_s2\n",
      "talondx-001/dsspeaddescriptor/spead\n",
      "talondx-001/finechannelizer/ch_16k_0\n",
      "talondx-001/finechannelizer/ch_16k_1\n",
      "talondx-001/finechannelizer/ch_16k_2\n",
      "talondx-001/finechannelizer/ch_16k_3\n",
      "talondx-001/fsp-app/fsp-controller\n",
      "talondx-001/fsp-app/fsp-corr-controller\n",
      "talondx-001/gaussiannoisegen/gn_gen_src_polX_0\n",
      "talondx-001/gaussiannoisegen/gn_gen_src_polY_0\n",
      "talondx-001/histogram/E_POST_CH16K_0\n",
      "talondx-001/histogram/E_POST_CH16K_1\n",
      "talondx-001/histogram/E_POST_CH16K_2\n",
      "talondx-001/histogram/E_POST_CH16K_3\n",
      "talondx-001/histogram/E_POST_RDT_0\n",
      "talondx-001/histogram/E_POST_RDT_1\n",
      "talondx-001/histogram/E_POST_RDT_2\n",
      "talondx-001/histogram/E_POST_RDT_3\n",
      "talondx-001/histogram/E_POST_VCC_0\n",
      "talondx-001/histogram/E_POST_VCC_1\n",
      "talondx-001/histogram/E_POST_VCC_2\n",
      "talondx-001/histogram/E_POST_VCC_3\n",
      "talondx-001/histogram/E_PRE_VCC\n",
      "talondx-001/hpsmaster/hps-1\n",
      "talondx-001/lstvbandpassfilter/fir_filt_src_polX_0\n",
      "talondx-001/lstvbandpassfilter/fir_filt_src_polY_0\n",
      "talondx-001/lstvgen/lstv_gen\n",
      "talondx-001/lstvplayback/lstv_pbk\n",
      "talondx-001/lstvtonegenerator/tone_gen_polX\n",
      "talondx-001/lstvtonegenerator/tone_gen_polY\n",
      "talondx-001/packetstreamrepair/packet_stream_repair_0\n",
      "talondx-001/packetstreamrepair/packet_stream_repair_1\n",
      "talondx-001/packetstreamrepair/packet_stream_repair_2\n",
      "talondx-001/packetstreamrepair/packet_stream_repair_3\n",
      "talondx-001/polarizationcoupler/pol_coupler_0\n",
      "talondx-001/resamplerdelaytracker/resampler_bite_0\n",
      "talondx-001/resamplerdelaytracker/resampler_fsp_0\n",
      "talondx-001/resamplerdelaytracker/resampler_fsp_1\n",
      "talondx-001/resamplerdelaytracker/resampler_fsp_2\n",
      "talondx-001/resamplerdelaytracker/resampler_fsp_3\n",
      "talondx-001/ska-mid-spfrx-packetizer/spfrx_pkt\n",
      "talondx-001/ska-talondx-100-gigabit-ethernet/100g_eth_0\n",
      "talondx-001/ska-talondx-100-gigabit-ethernet/100g_eth_1\n",
      "talondx-001/ska-talondx-status/status\n",
      "talondx-001/ska-talondx-sysid-ds/sysid\n",
      "talondx-001/slim-tx-rx/rx0\n",
      "talondx-001/slim-tx-rx/rx1\n",
      "talondx-001/slim-tx-rx/rx2\n",
      "talondx-001/slim-tx-rx/rx3\n",
      "talondx-001/slim-tx-rx/tx0\n",
      "talondx-001/slim-tx-rx/tx1\n",
      "talondx-001/slim-tx-rx/tx2\n",
      "talondx-001/slim-tx-rx/tx3\n",
      "talondx-001/vcc-app/vcc-band-1-and-2\n",
      "talondx-001/vcc-app/vcc-controller\n",
      "talondx-001/vcc/vcc\n",
      "talondx-001/wbstatecount/state_count\n",
      "talondx-001/wideband-input-buffer/wideband-input-buffer\n"
     ]
    }
   ],
   "source": [
    "database = Database()\n",
    "instance_list = database.get_device_exported(\"*\")\n",
    "print(\"%d devices avalable\" % (len(instance_list)))\n",
    "for instance in instance_list.value_string:\n",
    "    #dev = DeviceProxy(instance)\n",
    "    print(instance)\n",
    "    #print(\"*****\")\n",
    "    #print(dev.info())"
   ]
  },
  {
   "cell_type": "markdown",
   "id": "d02d35af-719f-4860-89b1-730e238d23c5",
   "metadata": {
    "tags": []
   },
   "source": [
    "## Setup Device connection and Timeouts\n",
    "Set up DeviceProxy, check AdminMode and if not 0, set to 0 (ONLINE)"
   ]
  },
  {
   "cell_type": "code",
   "execution_count": 12,
   "id": "05d91830-fbc9-4a5c-a0d2-0066a50302a1",
   "metadata": {
    "tags": []
   },
   "outputs": [],
   "source": [
    "CSP = DeviceProxy(\"mid-csp/control/0\")"
   ]
  },
  {
   "cell_type": "code",
   "execution_count": 13,
   "id": "4804afe2-51b1-429d-aca0-c6e1a2182224",
   "metadata": {
    "tags": []
   },
   "outputs": [
    {
     "data": {
      "text/plain": [
       "<adminMode.ONLINE: 0>"
      ]
     },
     "execution_count": 13,
     "metadata": {},
     "output_type": "execute_result"
    }
   ],
   "source": [
    "CSP.adminmode # This is likely currently OFFLINE"
   ]
  },
  {
   "cell_type": "code",
   "execution_count": 14,
   "id": "75279df9-1438-471c-a7f2-fcb447d1fdaf",
   "metadata": {
    "tags": []
   },
   "outputs": [
    {
     "data": {
      "text/plain": [
       "tango._tango.DevState.ON"
      ]
     },
     "execution_count": 14,
     "metadata": {},
     "output_type": "execute_result"
    }
   ],
   "source": [
    "CSP.State() # This should now be DISABLE"
   ]
  },
  {
   "cell_type": "markdown",
   "id": "ad78163e-cd23-4542-9cab-21f9d3569566",
   "metadata": {},
   "source": [
    "Set Adminmode to ONLINE and check state"
   ]
  },
  {
   "cell_type": "code",
   "execution_count": 15,
   "id": "4e8b9814-c789-491c-8baa-b21787bb1561",
   "metadata": {
    "tags": []
   },
   "outputs": [
    {
     "data": {
      "text/plain": [
       "<adminMode.ONLINE: 0>"
      ]
     },
     "execution_count": 15,
     "metadata": {},
     "output_type": "execute_result"
    }
   ],
   "source": [
    "CSP.adminmode=0\n",
    "CSP.adminmode"
   ]
  },
  {
   "cell_type": "code",
   "execution_count": 16,
   "id": "c81b3b92-6d9d-42e9-b20d-73caafbb209a",
   "metadata": {
    "tags": []
   },
   "outputs": [
    {
     "data": {
      "text/plain": [
       "tango._tango.DevState.ON"
      ]
     },
     "execution_count": 16,
     "metadata": {},
     "output_type": "execute_result"
    }
   ],
   "source": [
    "CSP.State() # This should now be OFF"
   ]
  },
  {
   "cell_type": "markdown",
   "id": "deaa3389-e66d-4793-9dc1-61c02b9253fa",
   "metadata": {},
   "source": [
    "Check CBF SimulationMode (this should be FALSE for real hardware control)"
   ]
  },
  {
   "cell_type": "code",
   "execution_count": 17,
   "id": "3e3e34cf-68ad-426b-87e0-a502d09078c9",
   "metadata": {
    "tags": []
   },
   "outputs": [
    {
     "data": {
      "text/plain": [
       "False"
      ]
     },
     "execution_count": 17,
     "metadata": {},
     "output_type": "execute_result"
    }
   ],
   "source": [
    "CSP.cbfSimulationMode # Should be True if hardware is not currently under CSP.LMC control"
   ]
  },
  {
   "cell_type": "code",
   "execution_count": 18,
   "id": "4ef43614-994e-4193-b751-905b5b716124",
   "metadata": {
    "tags": []
   },
   "outputs": [
    {
     "data": {
      "text/plain": [
       "True"
      ]
     },
     "execution_count": 18,
     "metadata": {},
     "output_type": "execute_result"
    }
   ],
   "source": [
    "# CSP.cbfSimulationMode=False\n",
    "CSP.cbfSimulationMode=True\n",
    "CSP.cbfSimulationMode"
   ]
  },
  {
   "cell_type": "markdown",
   "id": "e2a4eb6a-c082-4e9a-9acc-82771591443f",
   "metadata": {},
   "source": [
    "Set Timeout to 60 seconds as the ON command is a long-running command and check value"
   ]
  },
  {
   "cell_type": "code",
   "execution_count": 19,
   "id": "705a3be2-270c-426c-bf35-1c5459457377",
   "metadata": {
    "tags": []
   },
   "outputs": [
    {
     "data": {
      "text/plain": [
       "60"
      ]
     },
     "execution_count": 19,
     "metadata": {},
     "output_type": "execute_result"
    }
   ],
   "source": [
    "CSP.commandTimeout=TIMEOUT\n",
    "CSP.commandTimeout"
   ]
  },
  {
   "cell_type": "markdown",
   "id": "3218da85",
   "metadata": {},
   "source": [
    "## Check all relevant device states\n",
    "Now check if all the devices are switched on as they should be.\n",
    "Use the [Taranta Dashboard](https://k8s.miditf.internal.skao.int/integration/taranta/dashboard?id=6543b36cf6d53e0019b95cf1&mode=run) to monitor top-level devices!"
   ]
  },
  {
   "cell_type": "markdown",
   "id": "e8cbbb25-801d-4ef5-b965-bcd3e06946e5",
   "metadata": {},
   "source": [
    "## Send command sequence\n",
    "### Send the ON command. \n",
    "NOTE: an empty list sends the ON command to ALL the subsystems, specific subsystems are turned on if specified in a list of subsystem FQDNs"
   ]
  },
  {
   "cell_type": "code",
   "execution_count": null,
   "id": "b4ea8f84-c50c-4abc-b6ac-8850ff53794f",
   "metadata": {
    "tags": []
   },
   "outputs": [],
   "source": [
    "CSP.on([])"
   ]
  },
  {
   "cell_type": "code",
   "execution_count": null,
   "id": "160a7ca3-144f-4415-b3bc-fbba624958b6",
   "metadata": {
    "tags": []
   },
   "outputs": [],
   "source": [
    "CSP.State() # this should now be ON"
   ]
  },
  {
   "cell_type": "markdown",
   "id": "801db827-28b8-4cfd-a5cd-6d3206f7b81a",
   "metadata": {},
   "source": [
    "### Control the CSP Subarray\n",
    "Set up a Tango DeviceProxy to the CSP Subarray device\n"
   ]
  },
  {
   "cell_type": "code",
   "execution_count": 20,
   "id": "634eb864-475f-4568-b024-eff52fc9c3ae",
   "metadata": {
    "tags": []
   },
   "outputs": [],
   "source": [
    "CSPSubarray=DeviceProxy('dserver/TmCspSubarrayLeafNodeTest/tm')"
   ]
  },
  {
   "cell_type": "markdown",
   "id": "7dbe0330-75fe-453f-bdf3-8e770e3b9a15",
   "metadata": {},
   "source": [
    "### Send AssignResource"
   ]
  },
  {
   "cell_type": "code",
   "execution_count": null,
   "id": "892e0a48-c0f3-47bd-83c1-f3e1f9280551",
   "metadata": {
    "tags": []
   },
   "outputs": [],
   "source": [
    "resources=json.dumps({\n",
    "    \"subarray_id\": 1,\n",
    "    \"dish\":{\n",
    "        \"receptor_ids\":[\"SKA001\"]\n",
    "    }\n",
    "})\n",
    "\n",
    "CSPSubarray.AssignResources(resources)"
   ]
  },
  {
   "cell_type": "markdown",
   "id": "ef3d3d38-0514-49dd-8170-fb827781298a",
   "metadata": {},
   "source": [
    "### Send ConfigureScan command\n",
    "NOTE: get the IP address of the interface of the SDP Surrogate pod and modify the JSON for the configure scan with it, before you run this command!!!"
   ]
  },
  {
   "cell_type": "markdown",
   "id": "4667e32d-7ce2-4550-ad07-79cda0a01d57",
   "metadata": {},
   "source": [
    "#### Copy this JSON and modify \n",
    "Uncomment the first line after getting it from the kubectl command output and modifying SDP_HOST_IP_ADDRESS\n",
    "e.g. the IP address of the `pod cloud03-sdn-dynamic-vis` in the namespace `integration`"
   ]
  },
  {
   "cell_type": "code",
   "execution_count": null,
   "id": "d74034bb-126e-4185-b57f-d20dcf06df40",
   "metadata": {
    "tags": []
   },
   "outputs": [],
   "source": [
    "SDP_HOST_IP_ADDRESS=\"10.10.41.60\" # this is the IP address of the receiver interface\n",
    "configuredata={ \"interface\": \"https://schema.skao.int/ska-csp-configure/2.3\", \"subarray\": { \"subarray_name\": \"Single receptor\" }, \"common\": { \"config_id\": \"1 receptor, band 1, 1 FSP, no options\", \"frequency_band\": \"1\", \"subarray_id\": 0 }, \"cbf\": { \"delay_model_subscription_point\": \"ska_mid/tm_leaf_node/csp_subarray_01/delayModel\", \"rfi_flagging_mask\": {}, \"fsp\": [ { \"fsp_id\": 1, \"function_mode\": \"CORR\", \"receptors\": [\"SKA001\"], \"frequency_slice_id\": 1, \"zoom_factor\": 1, \"zoom_window_tuning\": 450000, \"integration_factor\": 10, \"channel_offset\": 14880, \"output_link_map\": [ [0, 4], [744, 8], [1488, 12], [2232, 16], [2976, 20], [3720, 24], [4464, 28], [5206, 32], [5952, 36], [6696, 40], [7440, 44], [8184, 48], [8928, 52], [9672, 56], [10416, 60], [11160, 64], [11904, 68], [12648, 72], [13392, 76], [14136, 80] ], \"output_host\": [[0, \"10.165.20.31\"]], \"output_port\": [[0, 14000, 1]] } ] } }\n",
    "configuredata[\"cbf\"][\"fsp\"][0][\"output_host\"] = SDP_HOST_IP_ADDRESS"
   ]
  },
  {
   "cell_type": "code",
   "execution_count": null,
   "id": "87781d17-fc49-44da-9f7a-ea148d444561",
   "metadata": {
    "tags": []
   },
   "outputs": [],
   "source": [
    "CSPSubarray.ConfigureScan(json.dumps(configuredata))"
   ]
  },
  {
   "cell_type": "markdown",
   "id": "8c09b34d-357a-46be-a29c-96cb0004eda4",
   "metadata": {},
   "source": [
    "## Setup BITE data stream\n",
    "Copy the output of the next print line and paste into your shell."
   ]
  },
  {
   "cell_type": "code",
   "execution_count": null,
   "id": "d436c29c-8cb9-40c7-8d4f-d5860da57da7",
   "metadata": {
    "tags": []
   },
   "outputs": [],
   "source": [
    "print(f\"kubectl -n {KUBE_NAMESPACE} exec ec-bite -- python3 midcbf_bite.py --talon-bite-lstv-replay --boards=1\")"
   ]
  },
  {
   "cell_type": "markdown",
   "id": "f0ac1938-83cf-4d21-93e1-a5df11a9c5ec",
   "metadata": {},
   "source": [
    "### Upload the Delaymodel\n"
   ]
  },
  {
   "cell_type": "code",
   "execution_count": null,
   "id": "963ce848-5a66-4b27-8ce1-a5bd04838fba",
   "metadata": {
    "tags": []
   },
   "outputs": [],
   "source": [
    "# Generate the Delaymodel and check if it was was correctly sent:\n",
    "sub = DeviceProxy(\"ska_mid/tm_leaf_node/csp_subarray_01\")\n",
    "current_time = float(datetime.datetime.utcnow().replace(tzinfo=datetime.timezone.utc).timestamp())\n",
    "dm={\"interface\": \"https://schema.skao.int/ska-csp-delaymodel/2.2\", \"epoch\": current_time, \"validity_period\": 400.0, \"delay_details\": [{\"receptor\": \"SKA001\", \"poly_info\": [{\"polarization\": \"X\", \"coeffs\": [0.0, 0.0, 0.0, 0.0, 0.0, 0.0]}, {\"polarization\": \"Y\", \"coeffs\": [0.0, 0.0, 0.0, 0.0, 0.0, 0.0]}]}]}\n",
    "sub.delayModel=json.dumps(dm)\n",
    "assert sub.delayModel==json.dumps(dm), f\"Expected {dm}, got\\n{sub.delayModel}\""
   ]
  },
  {
   "cell_type": "markdown",
   "id": "3d3324a4-8021-491e-991a-e93ec0f50e47",
   "metadata": {},
   "source": [
    "## Scan\n",
    "By now, we are supposed to look at the output of `tcpdump -i net1` in the SDP Surrogate pod and see data!"
   ]
  },
  {
   "cell_type": "markdown",
   "id": "80de1414-6cd3-4796-a814-372040618a36",
   "metadata": {},
   "source": [
    "## End Scan (CSP Subarray)\n",
    "If this fails because things were in READY, that means you didn't need to run it now - DON'T PANIC!\n",
    "\n",
    "Run this if device is in "
   ]
  },
  {
   "cell_type": "code",
   "execution_count": null,
   "id": "cce18930-73a1-409a-b42d-e7119f6d184f",
   "metadata": {
    "tags": []
   },
   "outputs": [],
   "source": [
    "CSPSubarray.EndScan()"
   ]
  },
  {
   "cell_type": "markdown",
   "id": "42da8d8b-8101-4546-bb8c-cb98486ace17",
   "metadata": {},
   "source": [
    "## Go To Idle (CSP Subarray)\n",
    "CSPSubarray.GoToIdle()"
   ]
  },
  {
   "cell_type": "code",
   "execution_count": null,
   "id": "3863dae5-a7df-478c-8af6-7eca68f46153",
   "metadata": {
    "tags": []
   },
   "outputs": [],
   "source": [
    "CSPSubarray.obsState"
   ]
  },
  {
   "cell_type": "markdown",
   "id": "d289c397-883f-4d33-ba93-e049f25536fd",
   "metadata": {},
   "source": [
    "## Release Resources (CSP Subarray)\n",
    "### Run either ReleaseAllResources, or ReleaseResources(<samejsonfilefortheothercommand>)"
   ]
  },
  {
   "cell_type": "code",
   "execution_count": null,
   "id": "f4cacb7b-479f-4cb5-a520-f621f0c40adc",
   "metadata": {
    "tags": []
   },
   "outputs": [],
   "source": [
    "CSPSubarray.ReleaseAllResources()"
   ]
  },
  {
   "cell_type": "markdown",
   "id": "08dabc8d-7155-42e9-83db-d14264a94182",
   "metadata": {},
   "source": [
    "## Final Teardown\n",
    "NOTE: This will off the CSP and CBF and should only be done if you don't want to use the system again."
   ]
  },
  {
   "cell_type": "code",
   "execution_count": null,
   "id": "a30f5dcd-f04d-468d-82eb-5eea7e663c6d",
   "metadata": {
    "tags": []
   },
   "outputs": [],
   "source": [
    "CSP.off([]) # Check with make itf-cbf-talonlru-status - lru should be off now\n",
    "CSP.cbfSimulationMode=True\n",
    "CSP.commandTimeout=3\n",
    "CSP.adminmode=1"
   ]
  },
  {
   "cell_type": "code",
   "execution_count": null,
   "id": "0715b025-5a7c-47f6-87da-4c63ce9ae799",
   "metadata": {},
   "outputs": [],
   "source": []
  }
 ],
 "metadata": {
  "kernelspec": {
   "display_name": "Python 3 (ipykernel)",
   "language": "python",
   "name": "python3"
  },
  "language_info": {
   "codemirror_mode": {
    "name": "ipython",
    "version": 3
   },
   "file_extension": ".py",
   "mimetype": "text/x-python",
   "name": "python",
   "nbconvert_exporter": "python",
   "pygments_lexer": "ipython3",
   "version": "3.10.12"
  },
  "vscode": {
   "interpreter": {
    "hash": "9eeea5aabe130fbe75f3df83a8deea5e3832e563aa3ceb023e09d4cd6e0dfeb6"
   }
  }
 },
 "nbformat": 4,
 "nbformat_minor": 5
}
