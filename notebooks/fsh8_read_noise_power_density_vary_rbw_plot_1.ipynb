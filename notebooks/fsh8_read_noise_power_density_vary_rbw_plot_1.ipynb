{
 "cells": [
  {
   "cell_type": "markdown",
   "id": "3e5ddd32",
   "metadata": {},
   "source": [
    "Import libraries and declare program constants"
   ]
  },
  {
   "cell_type": "code",
   "execution_count": 41,
   "id": "85997daa",
   "metadata": {},
   "outputs": [],
   "source": [
    "import sys\n",
    "import os\n",
    "import time\n",
    "import argparse\n",
    "import matplotlib.pyplot as plt\n",
    "from numpy import double\n",
    "\n",
    "\n",
    "#-----------------------import libraries for Spectrum analyzer----------------#\n",
    "sys.path.insert(0, os.path.abspath(os.path.join('..') + '/scripts/spec_ana/'))\n",
    "from sa_fsh8_read_noise_power_density import SA_SOCK        # Import the Spectrum Analyser Socket Function\n",
    "from sa_fsh8_read_noise_power_density import pow_values\n",
    "from sa_fsh8_read_noise_power_density import freq_values\n",
    "\n",
    "# -----------------Connection Settings----------------------\n",
    "SA_HOST = '10.8.88.138'             # fsh8 spectrum analyzer IP temporary\n",
    "SA_PORT = 5555                      # fsh8 spectrum analyzer port 18? 23?\n",
    "SA_ADDRESS = (SA_HOST, SA_PORT)\n",
    "#-----------------------------------------------------------\n",
    "# ----------------Initialization of Variables---------------    \n",
    "DEFAULT_TIMEOUT = 1        # Default socket timeout\n",
    "RF_OFF = 0\n",
    "RF_ON = 1\n",
    "\n",
    "# -----------------SA INITIALIZATION-----------------\n",
    "\n",
    "#-----------------SA_FSH8 initialization Variables----------\n",
    "NUMPOINTS = 631   # Number of measurement points (Max=625)"
   ]
  },
  {
   "cell_type": "markdown",
   "id": "927fb5cc",
   "metadata": {},
   "source": [
    "Input test parameters"
   ]
  },
  {
   "cell_type": "code",
   "execution_count": 42,
   "id": "705d110c",
   "metadata": {},
   "outputs": [],
   "source": [
    "freq_start = 0  # the start frequency of the spectrum analyzer (Hz) e.g. 100000000 or 100e6, integer with no units [100 MHz, minimum 9 kHz]\n",
    "freq_stop = 6e9 # the stop frequency of the spectrum analyzer (Hz) e.g. 2000000000 or 2e9, integer with no units [2 GHz, maximum 8 GHz]\n",
    "res_bw = 3e6    # the resolution bandwidth of the spectrum analyzer (Hz) e.g. 3000000 or 3e6, integer with no units [3 MHz]\n",
    "vid_bw = 3e2     # the video bandwidth of the spectrum analyzer (Hz) e.g. 300, integer with no units [30 Hz]\n",
    "marker_freq = 3e9  # the frequency of interest on the spectrum analyzer (Hz) e.g. 10000000 or 10e6, integer with no units [10 MHz, minimum 9 kHz, maximum 8 GHz]')\n"
   ]
  },
  {
   "cell_type": "markdown",
   "id": "f21b09dc",
   "metadata": {},
   "source": [
    "Setup the setup the Spectrum Analyzer"
   ]
  },
  {
   "cell_type": "code",
   "execution_count": 43,
   "id": "a05dbbcc",
   "metadata": {},
   "outputs": [],
   "source": [
    "#------------------------SA_FSH8 Setup-------------------------#\n",
    "def setupSA():\n",
    "    print('/------Setup spectrum analyser---------/')\n",
    "    specAnal = SA_SOCK()\n",
    "    specAnal.connectSpecAna((SA_ADDRESS))\n",
    "    specAnal.setSpecAnaSweep(freq_start, freq_stop, NUMPOINTS)\n",
    "    #rbw = res_bw         # Resolution BW of spectrum analyser\n",
    "    #vbw = vid_bw        # Video BW of spectrum analyser\n",
    "    specAnal.setSpecAnaBandwidth('off', res_bw, 'off', vid_bw) # Set the SA Resolution bandwidth mode to Manual, 100 KHz. Set the Video BW to Manual, 100 KHz \n",
    "    specAnal.setSpecAnaAmplitude(-25, 5) \n",
    "    specAnal.setSpecAnaDetector('rms')\n",
    "    specAnal.setSpecAnaSweepTime('15s')\n",
    "    specAnal.setMarkerFunction(marker_freq)\n",
    "    print(f'Frequency of Interest = {marker_freq/1e9} GHz')\n",
    "    print('/------End of Setup Spectrum Analyzer---------/')\n",
    "    return specAnal\n",
    "        "
   ]
  },
  {
   "cell_type": "code",
   "execution_count": 44,
   "id": "53d231cd",
   "metadata": {},
   "outputs": [],
   "source": [
    "#------------------------------ PLOT ---------------------------#\n",
    "def plotTrace(x_axis, y_axis, x_label, y_label, title, label, y_max): \n",
    "    ''' Plot response\n",
    "\n",
    "    This function plots the power vs frequency filter response \n",
    "\n",
    "    @params:    \n",
    "        freq_values: integer list [in Hz]\n",
    "        power_value: integer list [in dBm]\n",
    "    '''\n",
    "    plt.figure(figsize=(10,10))\n",
    "    plt.plot(x_axis, y_axis, 'r', label = label)\n",
    "    #plt.plot(x_axis, y_axis, 'rx')\n",
    "    plt.legend()\n",
    "    plt.xlabel(x_label, fontsize = 12)\n",
    "    plt.ylabel(y_label, fontsize = 12)\n",
    "    plt.ylim(ymax=y_max) \n",
    "    plt.ylim(ymin=y_max*6) \n",
    "    plt.title(title, fontsize = 16)\n",
    "    plt.grid()\n",
    "    plt.show()"
   ]
  },
  {
   "cell_type": "code",
   "execution_count": 45,
   "id": "7d67b2e7",
   "metadata": {},
   "outputs": [
    {
     "name": "stdout",
     "output_type": "stream",
     "text": [
      "/--------- Running main Code ---------/\n",
      "/------Setup spectrum analyser---------/\n"
     ]
    },
    {
     "ename": "ConnectionRefusedError",
     "evalue": "[Errno 61] Connection refused",
     "output_type": "error",
     "traceback": [
      "\u001b[0;31m---------------------------------------------------------------------------\u001b[0m",
      "\u001b[0;31mConnectionRefusedError\u001b[0m                    Traceback (most recent call last)",
      "Input \u001b[0;32mIn [45]\u001b[0m, in \u001b[0;36m<cell line: 3>\u001b[0;34m()\u001b[0m\n\u001b[1;32m      1\u001b[0m \u001b[38;5;28mprint\u001b[39m(\u001b[38;5;124m'\u001b[39m\u001b[38;5;124m/--------- Running main Code ---------/\u001b[39m\u001b[38;5;124m'\u001b[39m) \n\u001b[1;32m      2\u001b[0m time\u001b[38;5;241m.\u001b[39msleep(\u001b[38;5;241m1\u001b[39m) \n\u001b[0;32m----> 3\u001b[0m SpecAna \u001b[38;5;241m=\u001b[39m \u001b[43msetupSA\u001b[49m\u001b[43m(\u001b[49m\u001b[43m)\u001b[49m\n\u001b[1;32m      4\u001b[0m time\u001b[38;5;241m.\u001b[39msleep(\u001b[38;5;241m1\u001b[39m) \n\u001b[1;32m      5\u001b[0m run_time_delay \u001b[38;5;241m=\u001b[39m \u001b[38;5;28mfloat\u001b[39m(SpecAna\u001b[38;5;241m.\u001b[39mrequestSpecAnaData(\u001b[38;5;124m'\u001b[39m\u001b[38;5;124mSWE:TIME?\u001b[39m\u001b[38;5;124m'\u001b[39m)\u001b[38;5;241m.\u001b[39mdecode()) \u001b[38;5;241m*\u001b[39m \u001b[38;5;28mfloat\u001b[39m(\u001b[38;5;241m10\u001b[39m)\n",
      "Input \u001b[0;32mIn [43]\u001b[0m, in \u001b[0;36msetupSA\u001b[0;34m()\u001b[0m\n\u001b[1;32m      3\u001b[0m \u001b[38;5;28mprint\u001b[39m(\u001b[38;5;124m'\u001b[39m\u001b[38;5;124m/------Setup spectrum analyser---------/\u001b[39m\u001b[38;5;124m'\u001b[39m)\n\u001b[1;32m      4\u001b[0m specAnal \u001b[38;5;241m=\u001b[39m SA_SOCK()\n\u001b[0;32m----> 5\u001b[0m \u001b[43mspecAnal\u001b[49m\u001b[38;5;241;43m.\u001b[39;49m\u001b[43mconnectSpecAna\u001b[49m\u001b[43m(\u001b[49m\u001b[43m(\u001b[49m\u001b[43mSA_ADDRESS\u001b[49m\u001b[43m)\u001b[49m\u001b[43m)\u001b[49m\n\u001b[1;32m      6\u001b[0m specAnal\u001b[38;5;241m.\u001b[39msetSpecAnaSweep(freq_start, freq_stop, NUMPOINTS)\n\u001b[1;32m      7\u001b[0m \u001b[38;5;66;03m#rbw = res_bw         # Resolution BW of spectrum analyser\u001b[39;00m\n\u001b[1;32m      8\u001b[0m \u001b[38;5;66;03m#vbw = vid_bw        # Video BW of spectrum analyser\u001b[39;00m\n",
      "File \u001b[0;32m~/Documents/sITF/ska-itf-te/scripts/spec_ana/sa_fsh8_read_noise_power_density.py:62\u001b[0m, in \u001b[0;36mSA_SOCK.connectSpecAna\u001b[0;34m(self, SA_ADDRESS, default_timeout, default_buffer, short_delay, long_delay)\u001b[0m\n\u001b[1;32m     48\u001b[0m \u001b[38;5;28;01mdef\u001b[39;00m \u001b[38;5;21mconnectSpecAna\u001b[39m(\u001b[38;5;28mself\u001b[39m, SA_ADDRESS, default_timeout \u001b[38;5;241m=\u001b[39m \u001b[38;5;241m1\u001b[39m, default_buffer \u001b[38;5;241m=\u001b[39m \u001b[38;5;241m1024\u001b[39m, short_delay \u001b[38;5;241m=\u001b[39m \u001b[38;5;241m0.1\u001b[39m, long_delay \u001b[38;5;241m=\u001b[39m \u001b[38;5;241m1\u001b[39m):\n\u001b[1;32m     49\u001b[0m     \u001b[38;5;124;03m''' Establish socket connect connection.\u001b[39;00m\n\u001b[1;32m     50\u001b[0m \n\u001b[1;32m     51\u001b[0m \u001b[38;5;124;03m    This function:\u001b[39;00m\n\u001b[0;32m   (...)\u001b[0m\n\u001b[1;32m     60\u001b[0m \u001b[38;5;124;03m    default_buffer      : int 1024 bytes\u001b[39;00m\n\u001b[1;32m     61\u001b[0m \u001b[38;5;124;03m    '''\u001b[39;00m    \n\u001b[0;32m---> 62\u001b[0m     \u001b[38;5;28;43mself\u001b[39;49m\u001b[38;5;241;43m.\u001b[39;49m\u001b[43mconnect\u001b[49m\u001b[43m(\u001b[49m\u001b[43mSA_ADDRESS\u001b[49m\u001b[43m)\u001b[49m  \u001b[38;5;66;03m# connect to spectrum analyzer via socket at IP '10.8.88.138' and Port 5555\u001b[39;00m\n\u001b[1;32m     63\u001b[0m     \u001b[38;5;28mself\u001b[39m\u001b[38;5;241m.\u001b[39msettimeout(default_timeout) \n\u001b[1;32m     64\u001b[0m     \u001b[38;5;28mself\u001b[39m\u001b[38;5;241m.\u001b[39mdelay_long_s \u001b[38;5;241m=\u001b[39m long_delay\n",
      "\u001b[0;31mConnectionRefusedError\u001b[0m: [Errno 61] Connection refused"
     ]
    }
   ],
   "source": [
    "print('/--------- Running main Code ---------/') \n",
    "time.sleep(1) \n",
    "SpecAna = setupSA()\n",
    "time.sleep(1) \n",
    "run_time_delay = float(SpecAna.requestSpecAnaData('SWE:TIME?').decode()) * float(10)\n",
    "print(f'run_time_delay = {run_time_delay}')\n",
    "y_max = double(SpecAna.requestSpecAnaData('DISP:WIND:TRAC:Y:RLEV?'))\n",
    "noise_dbm_hz = double(SpecAna.requestSpecAnaData('CALC:MARK:FUNC:NOIS:RES?'))\n",
    "for count in range(0, int(run_time_delay), 10):\n",
    "    time.sleep(10)          # wait for sweep to complete  \n",
    "    print(f'count = {count}...')\n",
    "SpecAna.getSpecAnaTraceParams(freq_start, freq_stop)\n",
    "print('Power and Frequency Values acquired.')"
   ]
  },
  {
   "cell_type": "code",
   "execution_count": null,
   "id": "de4b71ee",
   "metadata": {},
   "outputs": [],
   "source": [
    "# Plot the results\n",
    "plotTrace(freq_values, pow_values, 'Frequency (GHz)', 'Power Input (dBm)', f'Noise Power Response: RBW = {res_bw/1e6} MHz and VBW = {vid_bw/1e6} MHz', f'RBW: {res_bw/1e6} MHz\\nVBW: {vid_bw/1e3} kHz\\n{noise_dbm_hz} dBm/Hz', y_max)\n",
    "print('Displayed plot...')\n",
    "print('End of program.')"
   ]
  },
  {
   "cell_type": "code",
   "execution_count": null,
   "id": "7534ef72",
   "metadata": {},
   "outputs": [],
   "source": [
    "res_bw = [1e6, 3e6, 5e6]  # the resolution bandwidth of the spectrum analyzer (Hz) e.g. 3000000 or 3e6, integer with no units [3 MHz]\n",
    "vid_bw = [3e2, 10e2, 30e2] # the video bandwidth of the spectrum analyzer (Hz) e.g. 30, integer with no units [30 Hz]   \n",
    "marker_freq = [10e6, 1.5e9, 3e9] # the frequency of interest on the spectrum analyzer (Hz) e.g. 10000000 or 10e6, integer with no units [10 MHz, minimum 9 kHz, maximum 8 GHz]')\n",
    "\n"
   ]
  },
  {
   "cell_type": "code",
   "execution_count": null,
   "id": "f1fbb338",
   "metadata": {},
   "outputs": [],
   "source": [
    "#SpecAna = setupSA()\n",
    "SpecAna.setSpecAnaDetector('rms')\n",
    "SpecAna.setMarkerFunction(marker_freq)\n",
    "for i in marker_freq:\n",
    "    if (i == 10e6) or (i == 3e9):\n",
    "        freq_start = 0            \n",
    "        freq_stop = 6e9           \n",
    "        print(f'Frequency of Interest = {i/1e6} MHz')\n",
    "        SpecAna.setSpecAnaSweep(freq_start, freq_stop, NUMPOINTS)\n",
    "        SpecAna.setSpecAnaAmplitude(-25, 5)\n",
    "        SpecAna.setSpecAnaSweepTime('15s')\n",
    "        for (j,k) in zip(res_bw, vid_bw):\n",
    "            print(f'Testing with RBW = {j} MHz and VBW = {k} MHz')\n",
    "            SpecAna.setSpecAnaBandwidth('off', j, 'off', k)\n",
    "            print('/--------- Running main Code ---------/') \n",
    "            time.sleep(1) \n",
    "            time.sleep(1) \n",
    "            run_time_delay = float(SpecAna.requestSpecAnaData('SWE:TIME?').decode()) * float(10)\n",
    "            print(f'run_time_delay = {run_time_delay}')\n",
    "            y_max = double(SpecAna.requestSpecAnaData('DISP:WIND:TRAC:Y:RLEV?'))\n",
    "            noise_dbm_hz = double(SpecAna.requestSpecAnaData('CALC:MARK:FUNC:NOIS:RES?'))\n",
    "            for count in range(0, int(run_time_delay), 10):\n",
    "                time.sleep(10)          \n",
    "                print(f'count = {count}...')\n",
    "            SpecAna.getSpecAnaTraceParams(freq_start, freq_stop)\n",
    "            print('Power and Frequency Values acquired.')    \n",
    "            \n",
    "    elif i == 1.5e9:      \n",
    "        freq_start = 0            \n",
    "        freq_stop = 3e9          \n",
    "        SpecAna.setSpecAnaSweep(freq_start, freq_stop, NUMPOINTS)\n",
    "        SpecAna.setSpecAnaAmplitude(-24, 15)\n",
    "        SpecAna.setSpecAnaSweepTime('7.6s')\n",
    "        for (j,k) in zip(res_bw, vid_bw):\n",
    "            print(f'Testing with RBW = {j} MHz and VBW = {k} MHz')\n",
    "            SpecAna.setSpecAnaBandwidth('off', j, 'off', k)\n",
    "            print('/--------- Running main Code ---------/') \n",
    "            time.sleep(1) \n",
    "            time.sleep(1) \n",
    "            run_time_delay = float(SpecAna.requestSpecAnaData('SWE:TIME?').decode()) * float(10)\n",
    "            print(f'run_time_delay = {run_time_delay}')\n",
    "            y_max = double(SpecAna.requestSpecAnaData('DISP:WIND:TRAC:Y:RLEV?'))\n",
    "            noise_dbm_hz = double(SpecAna.requestSpecAnaData('CALC:MARK:FUNC:NOIS:RES?'))\n",
    "            for count in range(0, int(run_time_delay), 10):\n",
    "                time.sleep(10)          # wait for sweep to complete  \n",
    "                print(f'count = {count}...')\n",
    "            SpecAna.getSpecAnaTraceParams(freq_start, freq_stop)\n",
    "            print('Power and Frequency Values acquired.') \n",
    "        \n",
    "    for test in range(0,len(res_bw)):\n",
    "        plt.figure(figsize=(10, 10))\n",
    "        plt.plot(freq_values, pow_values, 'r', label = f'Resolution BW: {res_bw/1e6} MHz\\n{noise_dbm_hz} dBm/Hz')\n",
    "        plt.legend()\n",
    "        plt.xlabel('Frequency (GHz)', fontsize = 16)\n",
    "        plt.ylabel('Power Input (dBm)', fontsize = 16)\n",
    "        plt.title(f'Noise Power Density with RBW = {(res_bw[test])/1e6} MHz and VBW = {(vid_bw[test])/1e3} kHz', fontsize = 20)\n",
    "        plt.grid()\n",
    "        plt.show()\n",
    "    \n",
    "        print('/------End of Setup Spectrum Analyzer---------/')\n"
   ]
  }
 ],
 "metadata": {
  "kernelspec": {
   "display_name": "Python 3 (ipykernel)",
   "language": "python",
   "name": "python3"
  },
  "language_info": {
   "codemirror_mode": {
    "name": "ipython",
    "version": 3
   },
   "file_extension": ".py",
   "mimetype": "text/x-python",
   "name": "python",
   "nbconvert_exporter": "python",
   "pygments_lexer": "ipython3",
   "version": "3.9.13"
  },
  "vscode": {
   "interpreter": {
    "hash": "b0fa6594d8f4cbf19f97940f81e996739fb7646882a419484c72d19e05852a7e"
   }
  }
 },
 "nbformat": 4,
 "nbformat_minor": 5
}
