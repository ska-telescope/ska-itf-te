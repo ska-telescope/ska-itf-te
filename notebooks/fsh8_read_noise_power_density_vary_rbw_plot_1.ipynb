{
 "cells": [
  {
   "cell_type": "markdown",
   "id": "3e5ddd32",
   "metadata": {},
   "source": [
    "Import libraries and declare program constants"
   ]
  },
  {
   "cell_type": "code",
   "execution_count": 1,
   "id": "85997daa",
   "metadata": {},
   "outputs": [],
   "source": [
    "import sys\n",
    "import os\n",
    "import time\n",
    "import argparse\n",
    "import matplotlib.pyplot as plt\n",
    "from numpy import double\n",
    "\n",
    "\n",
    "#-----------------------import libraries for Spectrum analyzer----------------#\n",
    "sys.path.insert(0, os.path.abspath(os.path.join('..') + '/scripts/spec_ana/'))\n",
    "from sa_fsh8_read_noise_power_density import SA_SOCK        # Import the Spectrum Analyser Socket Function\n",
    "from sa_fsh8_read_noise_power_density import pow_values\n",
    "from sa_fsh8_read_noise_power_density import freq_values\n",
    "\n",
    "# -----------------Connection Settings----------------------\n",
    "SA_HOST = '10.8.88.138'             # fsh8 spectrum analyzer IP temporary\n",
    "SA_PORT = 5555                      # fsh8 spectrum analyzer port 18? 23?\n",
    "SA_ADDRESS = (SA_HOST, SA_PORT)\n",
    "#-----------------------------------------------------------\n",
    "# ----------------Initialization of Variables---------------    \n",
    "DEFAULT_TIMEOUT = 1        # Default socket timeout\n",
    "RF_OFF = 0\n",
    "RF_ON = 1\n",
    "\n",
    "# -----------------SA INITIALIZATION-----------------\n",
    "\n",
    "#-----------------SA_FSH8 initialization Variables----------\n",
    "NUMPOINTS = 631   # Number of measurement points (Max=625)"
   ]
  },
  {
   "cell_type": "markdown",
   "id": "927fb5cc",
   "metadata": {},
   "source": [
    "Input test parameters"
   ]
  },
  {
   "cell_type": "code",
   "execution_count": 2,
   "id": "705d110c",
   "metadata": {},
   "outputs": [],
   "source": [
    "freq_start = 0  # the start frequency of the spectrum analyzer (Hz) e.g. 100000000 or 100e6, integer with no units [100 MHz, minimum 9 kHz]\n",
    "freq_stop = 6e9 # the stop frequency of the spectrum analyzer (Hz) e.g. 2000000000 or 2e9, integer with no units [2 GHz, maximum 8 GHz]\n",
    "res_bw = 3e6    # the resolution bandwidth of the spectrum analyzer (Hz) e.g. 3000000 or 3e6, integer with no units [3 MHz]\n",
    "vid_bw = 3e2     # the video bandwidth of the spectrum analyzer (Hz) e.g. 300, integer with no units [30 Hz]\n",
    "marker_freq = 3e9  # the frequency of interest on the spectrum analyzer (Hz) e.g. 10000000 or 10e6, integer with no units [10 MHz, minimum 9 kHz, maximum 8 GHz]')\n"
   ]
  },
  {
   "cell_type": "markdown",
   "id": "f21b09dc",
   "metadata": {},
   "source": [
    "Setup the setup the Spectrum Analyzer"
   ]
  },
  {
   "cell_type": "code",
   "execution_count": 3,
   "id": "a05dbbcc",
   "metadata": {},
   "outputs": [],
   "source": [
    "#------------------------SA_FSH8 Setup-------------------------#\n",
    "def setupSA():\n",
    "    print('/------Setup spectrum analyser---------/')\n",
    "    specAnal = SA_SOCK()\n",
    "    specAnal.connectSpecAna((SA_ADDRESS))\n",
    "    specAnal.setSpecAnaSweep(freq_start, freq_stop, NUMPOINTS)\n",
    "    #rbw = res_bw         # Resolution BW of spectrum analyser\n",
    "    #vbw = vid_bw        # Video BW of spectrum analyser\n",
    "    specAnal.setSpecAnaBandwidth('off', res_bw, 'off', vid_bw) # Set the SA Resolution bandwidth mode to Manual, 100 KHz. Set the Video BW to Manual, 100 KHz \n",
    "    specAnal.setSpecAnaAmplitude(-25, 5) \n",
    "    specAnal.setSpecAnaDetector('rms')\n",
    "    specAnal.setSpecAnaSweepTime('15s')\n",
    "    specAnal.setMarkerFunction(marker_freq)\n",
    "    print(f'Frequency of Interest = {marker_freq/1e9} GHz')\n",
    "    print('/------End of Setup Spectrum Analyzer---------/')\n",
    "    return specAnal\n",
    "        "
   ]
  },
  {
   "cell_type": "code",
   "execution_count": 4,
   "id": "53d231cd",
   "metadata": {},
   "outputs": [],
   "source": [
    "#------------------------------ PLOT ---------------------------#\n",
    "def plotTrace(x_axis, y_axis, x_label, y_label, title, label, y_max): \n",
    "    ''' Plot response\n",
    "\n",
    "    This function plots the power vs frequency filter response \n",
    "\n",
    "    @params:    \n",
    "        freq_values: integer list [in Hz]\n",
    "        power_value: integer list [in dBm]\n",
    "    '''\n",
    "    plt.figure(figsize=(10,10))\n",
    "    plt.plot(x_axis, y_axis, 'r', label = label)\n",
    "    plt.legend()\n",
    "    plt.xlabel(x_label, fontsize = 12)\n",
    "    plt.ylabel(y_label, fontsize = 12)\n",
    "    plt.ylim(ymax=y_max) \n",
    "    plt.ylim(ymin=y_max*6) \n",
    "    plt.title(title, fontsize = 16)\n",
    "    plt.grid()\n",
    "    plt.show()"
   ]
  },
  {
   "cell_type": "code",
   "execution_count": 5,
   "id": "7d67b2e7",
   "metadata": {},
   "outputs": [
    {
     "name": "stdout",
     "output_type": "stream",
     "text": [
      "/--------- Running main Code ---------/\n",
      "/------Setup spectrum analyser---------/\n",
      "Connected to: b'Rohde&Schwarz,FSH8,106260/028,V3.30'\n",
      "SA Start Freq: 0.0 MHz, Stop Freq: 6000.0 MHz, Points: 631\n",
      "SA RBW set to AUTO 0, RBW = 3000.0 kHz\n",
      "SA VBW set to AUTO 0, VBW = 0.3 kHz\n",
      "SA amplitude reference level set to REF -25.0 dBm\n",
      "SA input attenuator set to 5.0 dB\n",
      "SA trace mode set to = WRIT\n",
      "SA detector mode set to = RMS\n",
      "Frequency of Interest = 3.0 GHz\n",
      "/------End of Setup Spectrum Analyzer---------/\n",
      "run_time_delay = 150.0\n",
      "count = 0...\n",
      "count = 10...\n",
      "count = 20...\n",
      "count = 30...\n",
      "count = 40...\n",
      "count = 50...\n",
      "count = 60...\n",
      "count = 70...\n",
      "count = 80...\n",
      "count = 90...\n",
      "count = 100...\n",
      "count = 110...\n",
      "count = 120...\n",
      "count = 130...\n",
      "count = 140...\n",
      "No of Sweep Points = 631\n",
      "Power and Frequency Values acquired.\n"
     ]
    }
   ],
   "source": [
    "print('/--------- Running main Code ---------/') \n",
    "time.sleep(1) \n",
    "SpecAna = setupSA()\n",
    "time.sleep(1) \n",
    "run_time_delay = float(SpecAna.requestSpecAnaData('SWE:TIME?').decode()) * float(10)\n",
    "print(f'run_time_delay = {run_time_delay}')\n",
    "y_max = double(SpecAna.requestSpecAnaData('DISP:WIND:TRAC:Y:RLEV?'))\n",
    "for count in range(0, int(run_time_delay), 10):\n",
    "    time.sleep(10)          # wait for sweep to complete  \n",
    "    print(f'count = {count}...')\n",
    "noise_dbm_hz = double(SpecAna.requestSpecAnaData('CALC:MARK:FUNC:NOIS:RES?'))\n",
    "SpecAna.getSpecAnaTraceParams(freq_start, freq_stop)\n",
    "print('Power and Frequency Values acquired.')"
   ]
  },
  {
   "cell_type": "code",
   "execution_count": 6,
   "id": "de4b71ee",
   "metadata": {},
   "outputs": [
    {
     "data": {
      "image/png": "[encoded data removed]",
      "text/plain": [
       "<Figure size 720x720 with 1 Axes>"
      ]
     },
     "metadata": {
      "needs_background": "light"
     },
     "output_type": "display_data"
    },
    {
     "name": "stdout",
     "output_type": "stream",
     "text": [
      "Displayed plot...\n",
      "End of program.\n"
     ]
    }
   ],
   "source": [
    "# Plot the results\n",
    "plotTrace(freq_values, pow_values, 'Frequency (GHz)', 'Power Input (dBm)', f'Noise Power Response: RBW = {res_bw/1e6} MHz and VBW = {vid_bw/1e6} MHz', f'Freq. of Interest:{marker_freq/1e9} GHz\\nRBW: {res_bw/1e6} MHz\\nVBW: {vid_bw/1e3} kHz\\nNoise Power: {noise_dbm_hz} dBm/Hz', y_max)\n",
    "print('Displayed plot...')\n",
    "print('End of program.')"
   ]
  },
  {
   "cell_type": "code",
   "execution_count": 7,
   "id": "7534ef72",
   "metadata": {},
   "outputs": [],
   "source": [
    "res_bw = [1e6, 3e6, 5e6]  # the resolution bandwidth of the spectrum analyzer (Hz) e.g. 3000000 or 3e6, integer with no units [3 MHz]\n",
    "vid_bw = [3e2, 10e2, 30e2] # the video bandwidth of the spectrum analyzer (Hz) e.g. 30, integer with no units [30 Hz]   \n",
    "marker_freq = [10e6, 1.5e9, 3e9] # the frequency of interest on the spectrum analyzer (Hz) e.g. 10000000 or 10e6, integer with no units [10 MHz, minimum 9 kHz, maximum 8 GHz]')\n",
    "\n"
   ]
  },
  {
   "cell_type": "code",
   "execution_count": null,
   "id": "f1fbb338",
   "metadata": {},
   "outputs": [
    {
     "name": "stdout",
     "output_type": "stream",
     "text": [
      "SA trace mode set to = WRIT\n",
      "SA detector mode set to = RMS\n",
      "Frequency of Interest = 10.0 MHz\n",
      "SA Start Freq: 0.0 MHz, Stop Freq: 6000.0 MHz, Points: 631\n",
      "SA amplitude reference level set to REF -25.0 dBm\n",
      "SA input attenuator set to 5.0 dB\n",
      "Testing with RBW = 1000000.0 MHz and VBW = 300.0 MHz\n",
      "SA RBW set to AUTO 0, RBW = 1000.0 kHz\n",
      "SA VBW set to AUTO 0, VBW = 0.3 kHz\n",
      "/--------- Running main Code ---------/\n",
      "run_time_delay = 150.0\n",
      "count = 0...\n",
      "count = 10...\n",
      "count = 20...\n",
      "count = 30...\n",
      "count = 40...\n",
      "count = 50...\n"
     ]
    }
   ],
   "source": [
    "#SpecAna = setupSA()\n",
    "SpecAna.setSpecAnaDetector('rms')\n",
    "SpecAna.setMarkerFunction(marker_freq)\n",
    "for i in marker_freq:\n",
    "    if (i == 10e6) or (i == 3e9):\n",
    "        freq_start = 0            \n",
    "        freq_stop = 6e9           \n",
    "        print(f'Frequency of Interest = {i/1e6} MHz')\n",
    "        SpecAna.setSpecAnaSweep(freq_start, freq_stop, NUMPOINTS)\n",
    "        SpecAna.setSpecAnaAmplitude(-25, 5)\n",
    "        SpecAna.setSpecAnaSweepTime('15s')\n",
    "        for (j,k) in zip(res_bw, vid_bw):\n",
    "            print(f'Testing with RBW = {j} MHz and VBW = {k} MHz')\n",
    "            SpecAna.setSpecAnaBandwidth('off', j, 'off', k)\n",
    "            print('/--------- Running main Code ---------/') \n",
    "            time.sleep(1) \n",
    "            time.sleep(1) \n",
    "            run_time_delay = float(SpecAna.requestSpecAnaData('SWE:TIME?').decode()) * float(10)\n",
    "            print(f'run_time_delay = {run_time_delay}')\n",
    "            y_max = double(SpecAna.requestSpecAnaData('DISP:WIND:TRAC:Y:RLEV?'))\n",
    "            for count in range(0, int(run_time_delay), 10):\n",
    "                time.sleep(10)          \n",
    "                print(f'count = {count}...')\n",
    "            noise_dbm_hz = double(SpecAna.requestSpecAnaData('CALC:MARK:FUNC:NOIS:RES?'))\n",
    "            SpecAna.getSpecAnaTraceParams(freq_start, freq_stop)\n",
    "            print('Power and Frequency Values acquired.')   \n",
    "            \n",
    "            for test in range(0,len(res_bw)):\n",
    "                plt.figure(figsize=(10, 10))\n",
    "                plt.plot(freq_values, pow_values, 'r', label = f'Freq. of Interest:{marker_freq/1e9} GHz\\nResolution BW: {res_bw[test]/1e6} MHz\\nVideo BW:{vid_bw[test]/1e6} MHz\\nNoise Power: {noise_dbm_hz} dBm/Hz')\n",
    "                plt.legend()\n",
    "                plt.xlabel('Frequency (GHz)', fontsize = 16)\n",
    "                plt.ylabel('Power Input (dBm)', fontsize = 16)\n",
    "                plt.title(f'Noise Power Density with RBW = {(res_bw[test])/1e6} MHz and VBW = {(vid_bw[test])/1e3} kHz', fontsize = 20)\n",
    "                plt.grid()\n",
    "                plt.show()\n",
    "            \n",
    "    elif i == 1.5e9:      \n",
    "        freq_start = 0            \n",
    "        freq_stop = 3e9          \n",
    "        SpecAna.setSpecAnaSweep(freq_start, freq_stop, NUMPOINTS)\n",
    "        SpecAna.setSpecAnaAmplitude(-24, 15)\n",
    "        SpecAna.setSpecAnaSweepTime('7.6s')\n",
    "        for (j,k) in zip(res_bw, vid_bw):\n",
    "            print(f'Testing with RBW = {j} MHz and VBW = {k} MHz')\n",
    "            SpecAna.setSpecAnaBandwidth('off', j, 'off', k)\n",
    "            print('/--------- Running main Code ---------/') \n",
    "            time.sleep(1) \n",
    "            time.sleep(1) \n",
    "            run_time_delay = float(SpecAna.requestSpecAnaData('SWE:TIME?').decode()) * float(10)\n",
    "            print(f'run_time_delay = {run_time_delay}')\n",
    "            y_max = double(SpecAna.requestSpecAnaData('DISP:WIND:TRAC:Y:RLEV?'))\n",
    "            for count in range(0, int(run_time_delay), 10):\n",
    "                time.sleep(10)          # wait for sweep to complete  \n",
    "                print(f'count = {count}...')\n",
    "            noise_dbm_hz = double(SpecAna.requestSpecAnaData('CALC:MARK:FUNC:NOIS:RES?'))\n",
    "            SpecAna.getSpecAnaTraceParams(freq_start, freq_stop)\n",
    "            print('Power and Frequency Values acquired.') \n",
    "        \n",
    "            for test in range(0,len(res_bw)):\n",
    "                plt.figure(figsize=(10, 10))\n",
    "                plt.plot(freq_values, pow_values, 'r', label = f'Freq. of Interest:{marker_freq/1e9} GHz\\nResolution BW: {res_bw[test]/1e6} MHz\\nVideo BW:{vid_bw[test]/1e6} MHz\\nNoise Power: {noise_dbm_hz} dBm/Hz')\n",
    "                plt.legend()\n",
    "                plt.xlabel('Frequency (GHz)', fontsize = 16)\n",
    "                plt.ylabel('Power Input (dBm)', fontsize = 16)\n",
    "                plt.title(f'Noise Power Density with RBW = {(res_bw[test])/1e6} MHz and VBW = {(vid_bw[test])/1e3} kHz', fontsize = 20)\n",
    "                plt.grid()\n",
    "                plt.show()\n",
    "    \n",
    "        print('/------End of Setup Spectrum Analyzer---------/')\n"
   ]
  }
 ],
 "metadata": {
  "kernelspec": {
   "display_name": "Python 3 (ipykernel)",
   "language": "python",
   "name": "python3"
  },
  "language_info": {
   "codemirror_mode": {
    "name": "ipython",
    "version": 3
   },
   "file_extension": ".py",
   "mimetype": "text/x-python",
   "name": "python",
   "nbconvert_exporter": "python",
   "pygments_lexer": "ipython3",
   "version": "3.9.13"
  },
  "vscode": {
   "interpreter": {
    "hash": "b0fa6594d8f4cbf19f97940f81e996739fb7646882a419484c72d19e05852a7e"
   }
  }
 },
 "nbformat": 4,
 "nbformat_minor": 5
}
