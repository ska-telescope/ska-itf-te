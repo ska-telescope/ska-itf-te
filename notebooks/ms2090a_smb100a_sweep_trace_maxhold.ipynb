{
 "cells": [
  {
   "cell_type": "code",
   "execution_count": 2,
   "id": "c29a00a0",
   "metadata": {},
   "outputs": [
    {
     "ename": "ModuleNotFoundError",
     "evalue": "No module named 'scpi_database'",
     "output_type": "error",
     "traceback": [
      "\u001b[0;31m---------------------------------------------------------------------------\u001b[0m",
      "\u001b[0;31mModuleNotFoundError\u001b[0m                       Traceback (most recent call last)",
      "Input \u001b[0;32mIn [2]\u001b[0m, in \u001b[0;36m<cell line: 7>\u001b[0;34m()\u001b[0m\n\u001b[1;32m      4\u001b[0m \u001b[38;5;28;01mimport\u001b[39;00m \u001b[38;5;21;01mmatplotlib\u001b[39;00m\u001b[38;5;21;01m.\u001b[39;00m\u001b[38;5;21;01mpyplot\u001b[39;00m \u001b[38;5;28;01mas\u001b[39;00m \u001b[38;5;21;01mplt\u001b[39;00m\n\u001b[1;32m      6\u001b[0m sys\u001b[38;5;241m.\u001b[39mpath\u001b[38;5;241m.\u001b[39minsert(\u001b[38;5;241m0\u001b[39m, os\u001b[38;5;241m.\u001b[39mpath\u001b[38;5;241m.\u001b[39mabspath(os\u001b[38;5;241m.\u001b[39mpath\u001b[38;5;241m.\u001b[39mjoin(\u001b[38;5;124m'\u001b[39m\u001b[38;5;124m..\u001b[39m\u001b[38;5;124m'\u001b[39m) \u001b[38;5;241m+\u001b[39m \u001b[38;5;124m'\u001b[39m\u001b[38;5;124m/scripts/sig_gen/\u001b[39m\u001b[38;5;124m'\u001b[39m))\n\u001b[0;32m----> 7\u001b[0m \u001b[38;5;28;01mfrom\u001b[39;00m \u001b[38;5;21;01msg_smb100a_generate_frequency_sweep_2\u001b[39;00m \u001b[38;5;28;01mimport\u001b[39;00m SG_SOCK \u001b[38;5;66;03m# Import the Signal Generator Socket class from sig_gen folder\u001b[39;00m\n\u001b[1;32m      9\u001b[0m \u001b[38;5;66;03m#-----------------------import libraries for Spectrum analyzer----------------#\u001b[39;00m\n\u001b[1;32m     10\u001b[0m sys\u001b[38;5;241m.\u001b[39mpath\u001b[38;5;241m.\u001b[39minsert(\u001b[38;5;241m2\u001b[39m, os\u001b[38;5;241m.\u001b[39mpath\u001b[38;5;241m.\u001b[39mabspath(os\u001b[38;5;241m.\u001b[39mpath\u001b[38;5;241m.\u001b[39mjoin(\u001b[38;5;124m'\u001b[39m\u001b[38;5;124m../../../\u001b[39m\u001b[38;5;124m'\u001b[39m) \u001b[38;5;241m+\u001b[39m \u001b[38;5;124m'\u001b[39m\u001b[38;5;124m/scripts/spec_ana/ms2090a/\u001b[39m\u001b[38;5;124m'\u001b[39m))\n",
      "File \u001b[0;32m~/Documents/sITF/ska-itf-te/scripts/sig_gen/sg_smb100a_generate_frequency_sweep_2.py:33\u001b[0m, in \u001b[0;36m<module>\u001b[0;34m\u001b[0m\n\u001b[1;32m     31\u001b[0m \u001b[38;5;28;01mimport\u001b[39;00m \u001b[38;5;21;01margparse\u001b[39;00m\n\u001b[1;32m     32\u001b[0m sys\u001b[38;5;241m.\u001b[39mpath\u001b[38;5;241m.\u001b[39minsert(\u001b[38;5;241m1\u001b[39m, os\u001b[38;5;241m.\u001b[39mpath\u001b[38;5;241m.\u001b[39mabspath(os\u001b[38;5;241m.\u001b[39mpath\u001b[38;5;241m.\u001b[39mjoin(\u001b[38;5;124m'\u001b[39m\u001b[38;5;124m../../\u001b[39m\u001b[38;5;124m'\u001b[39m) \u001b[38;5;241m+\u001b[39m \u001b[38;5;124m'\u001b[39m\u001b[38;5;124m/resources/\u001b[39m\u001b[38;5;124m'\u001b[39m))\n\u001b[0;32m---> 33\u001b[0m \u001b[38;5;28;01mimport\u001b[39;00m \u001b[38;5;21;01mscpi_database\u001b[39;00m\n\u001b[1;32m     34\u001b[0m \u001b[38;5;28;01mfrom\u001b[39;00m \u001b[38;5;21;01mscpi_database\u001b[39;00m \u001b[38;5;28;01mimport\u001b[39;00m SGCmds\n\u001b[1;32m     35\u001b[0m \u001b[38;5;66;03m# -----------------Connection Settings----------------------\u001b[39;00m\n",
      "\u001b[0;31mModuleNotFoundError\u001b[0m: No module named 'scpi_database'"
     ]
    }
   ],
   "source": [
    "import sys, os\n",
    "import time\n",
    "import argparse\n",
    "import matplotlib.pyplot as plt\n",
    "\n",
    "sys.path.insert(0, os.path.abspath(os.path.join('..') + '/scripts/sig_gen/'))\n",
    "from sg_smb100a_generate_frequency_sweep_2 import SG_SOCK # Import the Signal Generator Socket class from sig_gen folder\n",
    "\n",
    "#-----------------------import libraries for Spectrum analyzer----------------#\n",
    "sys.path.insert(2, os.path.abspath(os.path.join('../../../') + '/scripts/spec_ana/ms2090a/'))\n",
    "from sa_ms2090a_set_maxhold_read_trace_1 import SA_SOCK        # Import the Spectrum Analyser Socket Function\n",
    "\n",
    "#--------Import scpi database for Signal Generator and Spectrum analyzer ----------#\n",
    "sys.path.insert(0, os.path.abspath(os.path.join('..') + '/resources/'))\n",
    "from scpi_database import SGCmds\n",
    "from scpi_database import SACmds\n",
    "\n",
    "# -----------------Connection Settings----------------------\n",
    "SG_PORT = 5025                    # default SMB R&S port \n",
    "SG_HOST = '10.20.7.1'             # smb100a signal generator IP\n",
    "SG_ADDRESS = (SG_HOST, SG_PORT)\n",
    "SA_HOST = '10.20.7.4'             # Anritsu spectrum analyzer IP temporary\n",
    "SA_PORT = 9001                    # Anritsu spectrum analyzer port \n",
    "SA_ADDRESS = (SA_HOST, SA_PORT)\n",
    "#-----------------------------------------------------------\n",
    "# ----------------Initialization of Variables---------------    \n",
    "DEFAULT_TIMEOUT = 1        # Default socket timeout\n",
    "RF_OFF = 0\n",
    "RF_ON = 1\n"
   ]
  },
  {
   "cell_type": "code",
   "execution_count": null,
   "id": "5fdcb574",
   "metadata": {},
   "outputs": [],
   "source": []
  },
  {
   "cell_type": "code",
   "execution_count": null,
   "id": "9a73766b",
   "metadata": {},
   "outputs": [],
   "source": []
  }
 ],
 "metadata": {
  "kernelspec": {
   "display_name": "Python 3 (ipykernel)",
   "language": "python",
   "name": "python3"
  },
  "language_info": {
   "codemirror_mode": {
    "name": "ipython",
    "version": 3
   },
   "file_extension": ".py",
   "mimetype": "text/x-python",
   "name": "python",
   "nbconvert_exporter": "python",
   "pygments_lexer": "ipython3",
   "version": "3.9.14"
  }
 },
 "nbformat": 4,
 "nbformat_minor": 5
}
