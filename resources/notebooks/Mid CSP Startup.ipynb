{
 "cells": [
  {
   "cell_type": "markdown",
   "id": "bfe7397b",
   "metadata": {},
   "source": [
    "# Basic CSP Startup Script\n",
    "\n",
    "Before starting the notebook, please run the job `deploy-sut-integration` of the `integration` stage in the latest gitlab pipeline: https://gitlab.com/ska-telescope/ska-mid-itf/-/pipelines?page=1&scope=all&ref=main. \n",
    "\n",
    "<div class=\"alert alert-block alert-danger\">\n",
    "<b>WARNING</b>The CBF configuration scripts' output is extremely verbose and will cause the CI job outputs to be too large to download in a single CI job. In future this might be improved.</div>"
   ]
  },
  {
   "cell_type": "code",
   "execution_count": null,
   "id": "8b17ab52",
   "metadata": {
    "tags": []
   },
   "outputs": [],
   "source": [
    "import os\n",
    "from tango import DeviceProxy, Database\n",
    "\n",
    "# Take the namespace name from the deployment job\n",
    "KUBE_NAMESPACE = \"integration\"\n",
    "CLUSTER_DOMAIN = \"miditf.internal.skao.int\"\n",
    "# set the name of the databaseds service\n",
    "DATABASEDS_NAME = \"tango-databaseds\"\n",
    "\n",
    "# finally set the TANGO_HOST\n",
    "os.environ[\n",
    "    \"TANGO_HOST\"\n",
    "] = f\"{DATABASEDS_NAME}.{KUBE_NAMESPACE}.svc.{CLUSTER_DOMAIN}:10000\""
   ]
  },
  {
   "cell_type": "markdown",
   "id": "3ac7e3e9",
   "metadata": {},
   "source": [
    "List all devices available:"
   ]
  },
  {
   "cell_type": "code",
   "execution_count": null,
   "id": "fe55883a-6887-43dd-9498-5333a51799e2",
   "metadata": {
    "tags": []
   },
   "outputs": [],
   "source": [
    "database = Database()\n",
    "instance_list = database.get_device_exported(\"*\")\n",
    "for instance in instance_list.value_string:\n",
    "    dev = DeviceProxy(instance)\n",
    "    print(instance)\n",
    "    print(\"*****\")\n",
    "    print(dev.info())"
   ]
  },
  {
   "cell_type": "markdown",
   "id": "d02d35af-719f-4860-89b1-730e238d23c5",
   "metadata": {
    "tags": []
   },
   "source": [
    "## Setup Device connection and Timeouts\n",
    "Set up DeviceProxy, check AdminMode and if not 0, set to 0 (ONLINE)"
   ]
  },
  {
   "cell_type": "code",
   "execution_count": null,
   "id": "05d91830-fbc9-4a5c-a0d2-0066a50302a1",
   "metadata": {
    "tags": []
   },
   "outputs": [],
   "source": [
    "CSP = DeviceProxy(\"mid-csp/control/0\")"
   ]
  },
  {
   "cell_type": "code",
   "execution_count": null,
   "id": "4804afe2-51b1-429d-aca0-c6e1a2182224",
   "metadata": {
    "tags": []
   },
   "outputs": [],
   "source": [
    "CSP.adminmode # This is likely currently OFFLINE"
   ]
  },
  {
   "cell_type": "code",
   "execution_count": null,
   "id": "75279df9-1438-471c-a7f2-fcb447d1fdaf",
   "metadata": {
    "tags": []
   },
   "outputs": [],
   "source": [
    "CSP.State() # This should now be DISABLE"
   ]
  },
  {
   "cell_type": "markdown",
   "id": "ad78163e-cd23-4542-9cab-21f9d3569566",
   "metadata": {},
   "source": [
    "Set Adminmode to ONLINE and check state"
   ]
  },
  {
   "cell_type": "code",
   "execution_count": null,
   "id": "4e8b9814-c789-491c-8baa-b21787bb1561",
   "metadata": {
    "tags": []
   },
   "outputs": [],
   "source": [
    "CSP.adminmode=0\n",
    "CSP.adminmode"
   ]
  },
  {
   "cell_type": "code",
   "execution_count": null,
   "id": "c81b3b92-6d9d-42e9-b20d-73caafbb209a",
   "metadata": {
    "tags": []
   },
   "outputs": [],
   "source": [
    "CSP.State() # This should now be OFF"
   ]
  },
  {
   "cell_type": "markdown",
   "id": "deaa3389-e66d-4793-9dc1-61c02b9253fa",
   "metadata": {},
   "source": [
    "Check CBF SimulationMode (this should be FALSE for real hardware control)"
   ]
  },
  {
   "cell_type": "code",
   "execution_count": null,
   "id": "3e3e34cf-68ad-426b-87e0-a502d09078c9",
   "metadata": {
    "tags": []
   },
   "outputs": [],
   "source": [
    "CSP.cbfSimulationMode # Should be True if hardware is not currently under CSP.LMC control"
   ]
  },
  {
   "cell_type": "code",
   "execution_count": null,
   "id": "4ef43614-994e-4193-b751-905b5b716124",
   "metadata": {
    "tags": []
   },
   "outputs": [],
   "source": [
    "CSP.cbfSimulationMode=False\n",
    "CSP.cbfSimulationMode"
   ]
  },
  {
   "cell_type": "markdown",
   "id": "e2a4eb6a-c082-4e9a-9acc-82771591443f",
   "metadata": {},
   "source": [
    "Set Timeout to 45 seconds as the ON command is a long-running command and check value"
   ]
  },
  {
   "cell_type": "code",
   "execution_count": null,
   "id": "705a3be2-270c-426c-bf35-1c5459457377",
   "metadata": {
    "tags": []
   },
   "outputs": [],
   "source": [
    "CSP.commandTimeout=45\n",
    "CSP.commandTimeout"
   ]
  },
  {
   "cell_type": "markdown",
   "id": "801db827-28b8-4cfd-a5cd-6d3206f7b81a",
   "metadata": {},
   "source": [
    "## Send ON command\n",
    "Send the ON command. In the current configuration, this requires the CBF to do some things.\n",
    "\n",
    "NOTE: an empty list sends the ON command to ALL the subsystems, specific subsystems are turned on if specified in a list of subsystem FQDNs"
   ]
  },
  {
   "cell_type": "code",
   "execution_count": null,
   "id": "b4ea8f84-c50c-4abc-b6ac-8850ff53794f",
   "metadata": {
    "tags": []
   },
   "outputs": [],
   "source": [
    "CSP.on([])"
   ]
  },
  {
   "cell_type": "code",
   "execution_count": null,
   "id": "160a7ca3-144f-4415-b3bc-fbba624958b6",
   "metadata": {
    "tags": []
   },
   "outputs": [],
   "source": [
    "CSP.State() # this should now be ON"
   ]
  },
  {
   "cell_type": "markdown",
   "id": "3218da85",
   "metadata": {},
   "source": [
    "## Check all relevant device states\n",
    "Now check if all the devices are switched on as they should be.\n",
    "Use the [Taranta Dashboard](https://k8s.miditf.internal.skao.int/integration/taranta/dashboard?id=6543b36cf6d53e0019b95cf1&mode=run) to monitor top-level devices!"
   ]
  },
  {
   "cell_type": "markdown",
   "id": "08dabc8d-7155-42e9-83db-d14264a94182",
   "metadata": {},
   "source": [
    "## Teardown\n",
    "Turn off the CSP (as it is now the end of the test session!), set its AdminMode to OFFLINE, reset the Timeout, set CBFSimulationMode back to True so other people can play with this device."
   ]
  },
  {
   "cell_type": "code",
   "execution_count": null,
   "id": "a30f5dcd-f04d-468d-82eb-5eea7e663c6d",
   "metadata": {
    "tags": []
   },
   "outputs": [],
   "source": [
    "CSP.off([]) # Check with make itf-cbf-talonlru-status - lru should be off now\n",
    "CSP.cbfSimulationMode=True\n",
    "CSP.commandTimeout=3\n",
    "CSP.adminmode=1"
   ]
  },
  {
   "cell_type": "code",
   "execution_count": null,
   "id": "0715b025-5a7c-47f6-87da-4c63ce9ae799",
   "metadata": {},
   "outputs": [],
   "source": []
  }
 ],
 "metadata": {
  "kernelspec": {
   "display_name": "Python 3 (ipykernel)",
   "language": "python",
   "name": "python3"
  },
  "language_info": {
   "codemirror_mode": {
    "name": "ipython",
    "version": 3
   },
   "file_extension": ".py",
   "mimetype": "text/x-python",
   "name": "python",
   "nbconvert_exporter": "python",
   "pygments_lexer": "ipython3",
   "version": "3.10.12"
  },
  "vscode": {
   "interpreter": {
    "hash": "9eeea5aabe130fbe75f3df83a8deea5e3832e563aa3ceb023e09d4cd6e0dfeb6"
   }
  }
 },
 "nbformat": 4,
 "nbformat_minor": 5
}
